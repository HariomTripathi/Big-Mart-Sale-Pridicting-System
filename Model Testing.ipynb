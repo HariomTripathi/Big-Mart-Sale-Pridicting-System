{
 "cells": [
  {
   "cell_type": "code",
   "execution_count": 3,
   "id": "c5d02bd5",
   "metadata": {},
   "outputs": [],
   "source": [
    "from joblib import load,dump\n",
    "import numpy as np\n",
    "rf=load('BigMart.joblib')"
   ]
  },
  {
   "cell_type": "code",
   "execution_count": 4,
   "id": "d23f1671",
   "metadata": {},
   "outputs": [
    {
     "data": {
      "text/plain": [
       "array([1658.90862189])"
      ]
     },
     "execution_count": 4,
     "metadata": {},
     "output_type": "execute_result"
    }
   ],
   "source": [
    "input=np.array([[-0.43860916, -0.21609253,  0.18795264, -0.65315472,  1.34005813,\n",
    "        0.82596048, -0.719355  , -0.1150058 , -0.11823609,  0.79835325,\n",
    "       -0.62541559, -0.68998339,  1.23687919, -1.36686554,  2.8659228 ,\n",
    "       -0.35759513]])\n",
    "rf.predict(input)"
   ]
  },
  {
   "cell_type": "code",
   "execution_count": null,
   "id": "45344fcd",
   "metadata": {},
   "outputs": [],
   "source": []
  }
 ],
 "metadata": {
  "kernelspec": {
   "display_name": "Python 3 (ipykernel)",
   "language": "python",
   "name": "python3"
  },
  "language_info": {
   "codemirror_mode": {
    "name": "ipython",
    "version": 3
   },
   "file_extension": ".py",
   "mimetype": "text/x-python",
   "name": "python",
   "nbconvert_exporter": "python",
   "pygments_lexer": "ipython3",
   "version": "3.9.5"
  }
 },
 "nbformat": 4,
 "nbformat_minor": 5
}
